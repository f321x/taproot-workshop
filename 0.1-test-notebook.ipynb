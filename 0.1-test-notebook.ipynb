{
 "cells": [
  {
   "cell_type": "markdown",
   "metadata": {},
   "source": [
    "#### Welcome to Jupyter\n",
    "\n",
    "This is a Jupyer Notebook. It contains both computer code (e.g. python) and rich text elements (paragraph, equations, figures, links, etc…). This paragraph is an example of the rich text element. You can double click on this paragraph 'cell' to edit it. \n",
    "\n",
    "Below is a code block. You can double click to edit it. You can also run the code step-by-step (one cell a time) by pressing shift + enter when you have the cell selected."
   ]
  },
  {
   "cell_type": "code",
   "execution_count": 1,
   "metadata": {},
   "outputs": [
    {
     "data": {
      "text/plain": [
       "21"
      ]
     },
     "execution_count": 1,
     "metadata": {},
     "output_type": "execute_result"
    }
   ],
   "source": [
    "14 + 7"
   ]
  },
  {
   "cell_type": "markdown",
   "metadata": {},
   "source": [
    "#### Verify that the bitcoind source directory is correctly configured and import the TestWrapper\n",
    "\n",
    "The source directory for your local Bitcoin Core repository should already be configured. If it isn't, update the `SOURCE_DIRECTORY` line to reference the Bitcoin Core source directory.\n",
    "\n",
    "This will be used to access the taproot-compatible bitcoind binary.\n",
    "\n",
    "The import below will fail if `SOURCE_DIRECTORY` is not configured or misconfigured:\n",
    "\n",
    "- `SOURCE_DIRECTORY not configured! Edit config.ini to configure SOURCE_DIRECTORY` means that no directory has been configured.\n",
    "- `ModuleNotFoundError: No module named 'test_framework'` means that the specified directory is not a Bitcoin Core branch."
   ]
  },
  {
   "cell_type": "code",
   "execution_count": 2,
   "metadata": {},
   "outputs": [
    {
     "name": "stdout",
     "output_type": "stream",
     "text": [
      "Source directory configured as /workspaces/taproot-workshop/bitcoin\n"
     ]
    }
   ],
   "source": [
    "from util import TestWrapper"
   ]
  },
  {
   "cell_type": "markdown",
   "metadata": {},
   "source": [
    "#### Create TestWrapper object\n",
    "\n",
    "We provide a test wrapper class which allows the user to leverage the test framework utilites in external Python projects, such as this notebook. The test wrapper provides RPC access to bitcoind instances directly from the Jupyter notebook cell or any other external python project.\n",
    "\n",
    "When `setup` is called, the test wrapper will automatically start a network of 3 bitcoind daemon subprocesses, which can be accessed through the RPC interface. We will use this frequently in this workshop to broadcast schnorr & taproot transactions."
   ]
  },
  {
   "cell_type": "markdown",
   "metadata": {},
   "source": [
    "![test_wrapper_object_lifetime](images/intro0.jpg)"
   ]
  },
  {
   "cell_type": "markdown",
   "metadata": {},
   "source": [
    "If the command below fails, then you may have entered the source directory above incorrectly."
   ]
  },
  {
   "cell_type": "code",
   "execution_count": 3,
   "metadata": {},
   "outputs": [
    {
     "name": "stdout",
     "output_type": "stream",
     "text": [
      "2024-05-23T10:35:56.057000Z TestFramework./tmp/bitcoin_func_test_yud_z0yq (INFO): Initializing test directory /tmp/bitcoin_func_test_yud_z0yq\n"
     ]
    }
   ],
   "source": [
    "test = TestWrapper()\n",
    "# Start TestNodes\n",
    "\n",
    "test.setup()"
   ]
  },
  {
   "cell_type": "markdown",
   "metadata": {},
   "source": [
    "#### Check node version\n",
    "\n",
    "This command checks the version of the Bitcoin Core node. Note that `getnetworkinfo` and `getdeploymentinfo` are simply Bitcoin Core RPC commands.\n",
    "\n",
    "If it fails, then the bitcoind binary is not the right version and does not have taproot enabled."
   ]
  },
  {
   "cell_type": "code",
   "execution_count": 5,
   "metadata": {},
   "outputs": [
    {
     "name": "stdout",
     "output_type": "stream",
     "text": [
      "Client version is /Satoshi:22.1.0(testnode0)/\n"
     ]
    },
    {
     "ename": "JSONRPCException",
     "evalue": "Method not found (-32601)",
     "output_type": "error",
     "traceback": [
      "\u001b[0;31m---------------------------------------------------------------------------\u001b[0m",
      "\u001b[0;31mJSONRPCException\u001b[0m                          Traceback (most recent call last)",
      "Cell \u001b[0;32mIn[5], line 5\u001b[0m\n\u001b[1;32m      2\u001b[0m \u001b[38;5;28mprint\u001b[39m(\u001b[38;5;124m\"\u001b[39m\u001b[38;5;124mClient version is \u001b[39m\u001b[38;5;132;01m{}\u001b[39;00m\u001b[38;5;124m\"\u001b[39m\u001b[38;5;241m.\u001b[39mformat(version))\n\u001b[1;32m      3\u001b[0m \u001b[38;5;28;01massert\u001b[39;00m \u001b[38;5;124m\"\u001b[39m\u001b[38;5;124mSatoshi\u001b[39m\u001b[38;5;124m\"\u001b[39m \u001b[38;5;129;01min\u001b[39;00m version\n\u001b[0;32m----> 5\u001b[0m deployment_info \u001b[38;5;241m=\u001b[39m \u001b[43mtest\u001b[49m\u001b[38;5;241;43m.\u001b[39;49m\u001b[43mnodes\u001b[49m\u001b[43m[\u001b[49m\u001b[38;5;241;43m0\u001b[39;49m\u001b[43m]\u001b[49m\u001b[38;5;241;43m.\u001b[39;49m\u001b[43mgetdeploymentinfo\u001b[49m\u001b[43m(\u001b[49m\u001b[43m)\u001b[49m\n\u001b[1;32m      6\u001b[0m \u001b[38;5;28;01massert\u001b[39;00m \u001b[38;5;124m'\u001b[39m\u001b[38;5;124mtaproot\u001b[39m\u001b[38;5;124m'\u001b[39m \u001b[38;5;129;01min\u001b[39;00m deployment_info[\u001b[38;5;124m'\u001b[39m\u001b[38;5;124mdeployments\u001b[39m\u001b[38;5;124m'\u001b[39m]\n\u001b[1;32m      7\u001b[0m \u001b[38;5;28;01massert\u001b[39;00m deployment_info[\u001b[38;5;124m'\u001b[39m\u001b[38;5;124mdeployments\u001b[39m\u001b[38;5;124m'\u001b[39m][\u001b[38;5;124m'\u001b[39m\u001b[38;5;124mtaproot\u001b[39m\u001b[38;5;124m'\u001b[39m][\u001b[38;5;124m'\u001b[39m\u001b[38;5;124mactive\u001b[39m\u001b[38;5;124m'\u001b[39m]\n",
      "File \u001b[0;32m/workspaces/taproot-workshop/test_framework/coverage.py:47\u001b[0m, in \u001b[0;36mAuthServiceProxyWrapper.__call__\u001b[0;34m(self, *args, **kwargs)\u001b[0m\n\u001b[1;32m     41\u001b[0m \u001b[38;5;28;01mdef\u001b[39;00m \u001b[38;5;21m__call__\u001b[39m(\u001b[38;5;28mself\u001b[39m, \u001b[38;5;241m*\u001b[39margs, \u001b[38;5;241m*\u001b[39m\u001b[38;5;241m*\u001b[39mkwargs):\n\u001b[1;32m     42\u001b[0m     \u001b[38;5;124;03m\"\"\"\u001b[39;00m\n\u001b[1;32m     43\u001b[0m \u001b[38;5;124;03m    Delegates to AuthServiceProxy, then writes the particular RPC method\u001b[39;00m\n\u001b[1;32m     44\u001b[0m \u001b[38;5;124;03m    called to a file.\u001b[39;00m\n\u001b[1;32m     45\u001b[0m \n\u001b[1;32m     46\u001b[0m \u001b[38;5;124;03m    \"\"\"\u001b[39;00m\n\u001b[0;32m---> 47\u001b[0m     return_val \u001b[38;5;241m=\u001b[39m \u001b[38;5;28;43mself\u001b[39;49m\u001b[38;5;241;43m.\u001b[39;49m\u001b[43mauth_service_proxy_instance\u001b[49m\u001b[38;5;241;43m.\u001b[39;49m\u001b[38;5;21;43m__call__\u001b[39;49m\u001b[43m(\u001b[49m\u001b[38;5;241;43m*\u001b[39;49m\u001b[43margs\u001b[49m\u001b[43m,\u001b[49m\u001b[43m \u001b[49m\u001b[38;5;241;43m*\u001b[39;49m\u001b[38;5;241;43m*\u001b[39;49m\u001b[43mkwargs\u001b[49m\u001b[43m)\u001b[49m\n\u001b[1;32m     48\u001b[0m     \u001b[38;5;28mself\u001b[39m\u001b[38;5;241m.\u001b[39m_log_call()\n\u001b[1;32m     49\u001b[0m     \u001b[38;5;28;01mreturn\u001b[39;00m return_val\n",
      "File \u001b[0;32m/workspaces/taproot-workshop/test_framework/authproxy.py:141\u001b[0m, in \u001b[0;36mAuthServiceProxy.__call__\u001b[0;34m(self, *args, **argsn)\u001b[0m\n\u001b[1;32m    139\u001b[0m response, status \u001b[38;5;241m=\u001b[39m \u001b[38;5;28mself\u001b[39m\u001b[38;5;241m.\u001b[39m_request(\u001b[38;5;124m'\u001b[39m\u001b[38;5;124mPOST\u001b[39m\u001b[38;5;124m'\u001b[39m, \u001b[38;5;28mself\u001b[39m\u001b[38;5;241m.\u001b[39m__url\u001b[38;5;241m.\u001b[39mpath, postdata\u001b[38;5;241m.\u001b[39mencode(\u001b[38;5;124m'\u001b[39m\u001b[38;5;124mutf-8\u001b[39m\u001b[38;5;124m'\u001b[39m))\n\u001b[1;32m    140\u001b[0m \u001b[38;5;28;01mif\u001b[39;00m response[\u001b[38;5;124m'\u001b[39m\u001b[38;5;124merror\u001b[39m\u001b[38;5;124m'\u001b[39m] \u001b[38;5;129;01mis\u001b[39;00m \u001b[38;5;129;01mnot\u001b[39;00m \u001b[38;5;28;01mNone\u001b[39;00m:\n\u001b[0;32m--> 141\u001b[0m     \u001b[38;5;28;01mraise\u001b[39;00m JSONRPCException(response[\u001b[38;5;124m'\u001b[39m\u001b[38;5;124merror\u001b[39m\u001b[38;5;124m'\u001b[39m], status)\n\u001b[1;32m    142\u001b[0m \u001b[38;5;28;01melif\u001b[39;00m \u001b[38;5;124m'\u001b[39m\u001b[38;5;124mresult\u001b[39m\u001b[38;5;124m'\u001b[39m \u001b[38;5;129;01mnot\u001b[39;00m \u001b[38;5;129;01min\u001b[39;00m response:\n\u001b[1;32m    143\u001b[0m     \u001b[38;5;28;01mraise\u001b[39;00m JSONRPCException({\n\u001b[1;32m    144\u001b[0m         \u001b[38;5;124m'\u001b[39m\u001b[38;5;124mcode\u001b[39m\u001b[38;5;124m'\u001b[39m: \u001b[38;5;241m-\u001b[39m\u001b[38;5;241m343\u001b[39m, \u001b[38;5;124m'\u001b[39m\u001b[38;5;124mmessage\u001b[39m\u001b[38;5;124m'\u001b[39m: \u001b[38;5;124m'\u001b[39m\u001b[38;5;124mmissing JSON-RPC result\u001b[39m\u001b[38;5;124m'\u001b[39m}, status)\n",
      "\u001b[0;31mJSONRPCException\u001b[0m: Method not found (-32601)"
     ]
    }
   ],
   "source": [
    "version = test.nodes[0].getnetworkinfo()['subversion']\n",
    "print(\"Client version is {}\".format(version))\n",
    "assert \"Satoshi\" in version\n",
    "\n",
    "deployment_info = test.nodes[0].getdeploymentinfo()\n",
    "assert 'taproot' in deployment_info['deployments']\n",
    "assert deployment_info['deployments']['taproot']['active']"
   ]
  },
  {
   "cell_type": "markdown",
   "metadata": {},
   "source": [
    "#### Shutdown TestNodes\n",
    "\n",
    "This shuts down the bitcoind instances cleanly and does other housekeeping (eg deleting log directories).\n",
    "\n",
    "This needs to be done at the end of every notebook."
   ]
  },
  {
   "cell_type": "code",
   "execution_count": 6,
   "metadata": {},
   "outputs": [
    {
     "name": "stdout",
     "output_type": "stream",
     "text": [
      "2024-05-23T10:37:43.627000Z TestFramework./tmp/bitcoin_func_test_yud_z0yq (INFO): Stopping nodes\n",
      "2024-05-23T10:37:43.679000Z TestFramework./tmp/bitcoin_func_test_yud_z0yq (INFO): Cleaning up /tmp/bitcoin_func_test_yud_z0yq on exit\n",
      "2024-05-23T10:37:43.679000Z TestFramework./tmp/bitcoin_func_test_yud_z0yq (INFO): Tests successful\n"
     ]
    }
   ],
   "source": [
    "# Shutdown TestNodes\n",
    "test.shutdown()"
   ]
  },
  {
   "cell_type": "markdown",
   "metadata": {},
   "source": [
    "*Things to keep in mind:*\n",
    "* Separate test wrapper `setup`, `shutdown` and your code into different cells. This ensures that an error in your code does not affect the test wrapper object and prevents orphaned subprocesses.\n",
    "* Only run one test wrapper object at a time.\n",
    "* If the subprocesses do become orphaned somehow, you can run `killall bitcoind` to shut them down manually."
   ]
  },
  {
   "cell_type": "markdown",
   "metadata": {},
   "source": [
    "#### You're ready for the workshop!\n",
    "\n",
    "If you were able to successfully execute the steps above, you are ready for the workshop!"
   ]
  }
 ],
 "metadata": {
  "kernelspec": {
   "display_name": "Python 3",
   "language": "python",
   "name": "python3"
  },
  "language_info": {
   "codemirror_mode": {
    "name": "ipython",
    "version": 3
   },
   "file_extension": ".py",
   "mimetype": "text/x-python",
   "name": "python",
   "nbconvert_exporter": "python",
   "pygments_lexer": "ipython3",
   "version": "3.9.2"
  }
 },
 "nbformat": 4,
 "nbformat_minor": 2
}
