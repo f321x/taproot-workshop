{
 "cells": [
  {
   "cell_type": "code",
   "execution_count": 3,
   "metadata": {},
   "outputs": [
    {
     "name": "stdout",
     "output_type": "stream",
     "text": [
      "Source directory configured as /workspaces/taproot-workshop/bitcoin\n"
     ]
    }
   ],
   "source": [
    "import random\n",
    "from io import BytesIO\n",
    "\n",
    "import util\n",
    "from test_framework.address import program_to_witness\n",
    "from test_framework.key import ECKey, ECPubKey, SECP256K1_ORDER, generate_key_pair, generate_bip340_key_pair, generate_schnorr_nonce, int_or_bytes\n",
    "from test_framework.messages import COutPoint, CTxIn, CTxInWitness, CTxOut, sha256\n",
    "from test_framework.musig import generate_musig_key, aggregate_schnorr_nonces, sign_musig, aggregate_musig_signatures, musig_digest\n",
    "from test_framework.script import CScript, CTransaction, OP_RETURN, SIGHASH_ALL_TAPROOT, TaprootSignatureHash, tagged_hash"
   ]
  },
  {
   "cell_type": "markdown",
   "metadata": {},
   "source": [
    "# 2.2 TapTweak\n",
    "\n",
    "* Part 1: Tweaking the public key; commitment schemes with tweaks\n",
    "* Part 2: Spending a (tweaked) taproot output along the key path\n",
    "* Part 3 (Case Study): contract commitments\n",
    "\n",
    "The linear property of BIP340 means that we can encode a commitment into a public key, and then reveal that commitment when signing with the private key. We do that by _tweaking_ the private key with the commitment, and using the associated _tweaked_ pubkey. When signing, we can reveal that the original keys were tweaked by the commitment.\n",
    "\n",
    "In part 1, we'll learn about how private/public key pairs can be tweaked, and how we can use that to create a secure commitment scheme. In part 2, we'll create a segwit v1 output and spend it along the key path, using a tweaked private and public key. Part 3 of this chapter is a case study, showing how pay-to-contract with tweaked keys can be used instead of OP_RETURN outputs to create timestamped commitments."
   ]
  },
  {
   "cell_type": "markdown",
   "metadata": {},
   "source": [
    "#### Example 2.2.1: Signing with a tweaked keypair\n",
    "\n",
    "In this example, we generate a key pair as before, and then tweak both the private key and public key. We then sign with the tweaked private key and verify that the signature is valid.\n",
    "\n",
    "A _tweak_ is positive scalar value `t` where `0 < t < SECP256K1_ORDER`. There is an associated tweak point `T` such that `T = t*G`.\n",
    "\n",
    "The private key is tweaked by the tweak scalar: `x' = x + t` and the public key is tweaked by the tweak point: `P' = P + T`.\n",
    "\n",
    "The tweaked private key `x'` can be used to produce a valid signature for the tweaked pubkey `P'`."
   ]
  },
  {
   "cell_type": "code",
   "execution_count": 4,
   "metadata": {},
   "outputs": [
    {
     "name": "stdout",
     "output_type": "stream",
     "text": [
      "Private key: 12280160724553941216168027497844858350496707105396402603793085509343551806379\n",
      "Public key: 49e560538fc234b0c290c76d4bc493c8cada1327116b5762c36e1e523092bbbd\n",
      "\n",
      "Tweak scalar: 112436195949251151826191778798034160568409785843811441491493437150115628597105\n",
      "Tweak point: 000dac0077437db4966075e2654a90fe878767da413dc8fcddd4bb03b98ac6b9\n",
      "\n",
      "Tweaked private key: 8924267436488897618788821287191111066068928670132939712681359517941018909147\n",
      "Tweaked pubkey: a827821bf6af24d7168ae5ed4e4e1fd8977b01c54339cbcc7f6a84ad55934c0f\n",
      "\n",
      "Success!\n"
     ]
    }
   ],
   "source": [
    "# Generate a key pair\n",
    "privkey, pubkey = generate_bip340_key_pair()\n",
    "\n",
    "print(\"Private key: {}\\nPublic key: {}\\n\".format(privkey.secret, pubkey.get_bytes().hex()))\n",
    "\n",
    "# Generate a random tweak scalar 0 < t < SECP256K1_ORDER and derive its associated tweak point\n",
    "tweak = random.randrange(1, SECP256K1_ORDER)\n",
    "tweak_private = ECKey().set(tweak)\n",
    "tweak_point = tweak_private.get_pubkey()\n",
    "print(\"Tweak scalar: {}\\nTweak point: {}\\n\".format(tweak_private.secret, tweak_point.get_bytes().hex()))\n",
    "\n",
    "# Derive the tweaked private key and public key\n",
    "privkey_tweaked = privkey + tweak_private\n",
    "pubkey_tweaked = pubkey + tweak_point\n",
    "print(\"Tweaked private key: {}\\nTweaked pubkey: {}\\n\".format(privkey_tweaked.secret, pubkey_tweaked.get_bytes().hex()))\n",
    "\n",
    "# Sign the message with tweaked key pair and verify the signature\n",
    "msg = sha256(b'msg')\n",
    "sig = privkey_tweaked.sign_schnorr(msg)\n",
    "assert pubkey_tweaked.verify_schnorr(sig, msg)\n",
    "print(\"Success!\")"
   ]
  },
  {
   "cell_type": "markdown",
   "metadata": {},
   "source": [
    "#### _Programming Exercise 2.2.2:_  Signing with a tweaked 2-of-2 MuSig key pair\n",
    "\n",
    "In this exercise, we tweak an MuSig aggregate pubkey, and then sign for it using the individual participant keys. The MuSig pubkey aggregation step is done for you.\n",
    "\n",
    "_Question: How is the tweak incorporated into the final signature?_"
   ]
  },
  {
   "cell_type": "code",
   "execution_count": 6,
   "metadata": {},
   "outputs": [
    {
     "name": "stdout",
     "output_type": "stream",
     "text": [
      "Success!\n"
     ]
    }
   ],
   "source": [
    "# Generate key pairs\n",
    "privkey1, pubkey1 = generate_key_pair()\n",
    "privkey2, pubkey2 = generate_key_pair()\n",
    "\n",
    "# Create an aggregate MuSig pubkey\n",
    "c_map, agg_pubkey = generate_musig_key([pubkey1, pubkey2])\n",
    "\n",
    "# Apply challenge factors to keys\n",
    "privkey1_c = privkey1 * c_map[pubkey1]\n",
    "privkey2_c = privkey2 * c_map[pubkey2]\n",
    "pubkey1_c = pubkey1 * c_map[pubkey1]\n",
    "pubkey2_c = pubkey2 * c_map[pubkey2]\n",
    "\n",
    "# Negate if needed\n",
    "if agg_pubkey.get_y()%2 != 0:\n",
    "    agg_pubkey.negate()\n",
    "    privkey1_c.negate()\n",
    "    privkey2_c.negate()\n",
    "    pubkey1_c.negate()\n",
    "    pubkey2_c.negate()\n",
    "\n",
    "# Tweak musig public key\n",
    "# Method: ECPubKey.tweak_add()\n",
    "tweak = random.randrange(1, SECP256K1_ORDER)\n",
    "agg_pubkey_tweaked = agg_pubkey.tweak_add(tweak)  # TODO: implement\n",
    "\n",
    "# Nonce generation & aggregation\n",
    "# Remember to negate the individual nonce values if required\n",
    "# Method: generate_schnorr_nonce()\n",
    "# Method: aggregate_schnorr_nonces()\n",
    "k1 = generate_schnorr_nonce() # TODO: implement\n",
    "k2 = generate_schnorr_nonce() # TODO: implement\n",
    "R_agg, negated = aggregate_schnorr_nonces([k1.get_pubkey(), k2.get_pubkey()]) # TODO: implement\n",
    "if negated:\n",
    "    R_agg.negate()\n",
    "    k1.negate()\n",
    "    k2.negate()\n",
    "    # TODO: implement\n",
    "\n",
    "# Signing and signature aggregation\n",
    "msg = sha256(b'msg')\n",
    "\n",
    "# Sign individually and then aggregate partial signatures. A factor (e * tweak)\n",
    "# needs to be added to the list of partial signatures\n",
    "# Method: sign_musig(private_key, nonce_key, nonce_point, public_key, msg)\n",
    "# Method: aggregate_musig_signatures(partial_signature_list, aggregate nonce)\n",
    "e = musig_digest(R_agg, agg_pubkey_tweaked, msg)\n",
    "s1 = sign_musig(privkey1_c, k1, R_agg, agg_pubkey_tweaked, msg) # TODO: implement\n",
    "s2 = sign_musig(privkey2_c, k2, R_agg, agg_pubkey_tweaked, msg) # TODO: implement\n",
    "sig_agg = aggregate_musig_signatures([s1, s2, (e * tweak)], R_agg) # TODO: implement\n",
    "\n",
    "assert agg_pubkey_tweaked.verify_schnorr(sig_agg, msg)\n",
    "print(\"Success!\")"
   ]
  },
  {
   "cell_type": "markdown",
   "metadata": {},
   "source": [
    "## Commitment schemes with tweaks\n",
    "\n",
    "Taproot uses the tweak as a commitment for spending script paths. However, simply applying the committed value as a public key tweak is not sufficient, as this does not represent a secure cryptographic commitment.\n",
    "\n",
    "![test](images/taptweak0.jpg)\n",
    "\n",
    "Instead, the committed value must first be hashed with the untweaked public key point. This commitment scheme is called *pay-to-contract*. **It does not allow the modification of a committed value for a given public key point Q.**"
   ]
  },
  {
   "cell_type": "markdown",
   "metadata": {},
   "source": [
    "#### Example 2.2.3: Tweaking a public key Q with commitment data\n",
    "\n",
    "In this example we demonstrate an insecure commitment scheme. The committed value `c` can be trivially modified to `c'`, and by setting `x'` to `x + c - c'`, the public key point equation `Q = x'G + c'G` still holds.\n",
    "\n",
    "First, we commit a contract between Alice and Bob and then demonstrate how this unsafe commitment can be changed.\n",
    "\n",
    "* The initial committed contract is: `Alice agrees to pay 10 BTC to Bob`"
   ]
  },
  {
   "cell_type": "code",
   "execution_count": 7,
   "metadata": {},
   "outputs": [
    {
     "name": "stdout",
     "output_type": "stream",
     "text": [
      "Private key: 36653266438080427077095844474885949205912050212945081305934685254617875111248\n",
      "Public key: 5f6ce75f54381f5345b0191642cfab8df6f46ea81e1b1de53a95649e1e126f9d\n",
      "\n",
      "Tweak from original contract: 502c616d9910774e00edb71f01b951962cc44ec67072757767f3906ff82ebfe8\n",
      "\n",
      "Tweaked private key: 72916708019741366820353066343055035516318238372953725614582184712738934824248\n",
      "Tweaked public key: e55e49aa9c78644e473d292bbcea94b9175f0817cc4b3b20cd1c6cfe78fbe29f\n",
      "\n",
      "Alice has produced a valid signature for Q: True\n",
      "The signature appears to commit to 'Alice agrees to pay 10 BTC to Bob': True\n"
     ]
    }
   ],
   "source": [
    "# Alice generates a key pair\n",
    "x_key, P_key = generate_key_pair()\n",
    "print(\"Private key: {}\\nPublic key: {}\\n\".format(x_key.secret, P_key.get_bytes().hex()))\n",
    "\n",
    "# Alice generates the tweak from the contract\n",
    "contract = \"Alice agrees to pay 10 BTC to Bob\"\n",
    "t = sha256(contract.encode('utf-8'))\n",
    "print(\"Tweak from original contract: {}\\n\".format(t.hex()))\n",
    "\n",
    "# Alice tweaks her key pair\n",
    "Q_key = P_key.tweak_add(t)\n",
    "q_key = x_key.add(t)\n",
    "print(\"Tweaked private key: {}\\nTweaked public key: {}\\n\".format(q_key.secret, Q_key.get_bytes().hex()))\n",
    "\n",
    "# Alice produces a valid signature for this tweaked public key\n",
    "msg = sha256(b'I agree to the committed contract')\n",
    "sig = q_key.sign_schnorr(msg)\n",
    "\n",
    "# Bob can verify that sig is a valid signature for the public key Q:\n",
    "verify_sig = Q_key.verify_schnorr(sig, msg)\n",
    "print(\"Alice has produced a valid signature for Q: {}\".format(verify_sig))\n",
    "\n",
    "# Alice provides the untweaked public key P to Bob.\n",
    "# Bob believes he can verify that the signature committed to the tweak t:\n",
    "verify_tweak = P_key.tweak_add(sha256(contract.encode('utf-8'))) == Q_key\n",
    "print(\"The signature appears to commit to '{}': {}\".format(contract, verify_tweak))"
   ]
  },
  {
   "cell_type": "markdown",
   "metadata": {},
   "source": [
    "#### Example 2.2.4: Modifying the commitment tweak of public key Q\n",
    "\n",
    "However, note that is possible for Alice to modify this insecure commitment without changing the value of pub key `Q`.\n",
    "* The committed contract is changed to : `Alice agrees to pay 0.1 BTC to Bob`"
   ]
  },
  {
   "cell_type": "code",
   "execution_count": 8,
   "metadata": {},
   "outputs": [
    {
     "name": "stdout",
     "output_type": "stream",
     "text": [
      "Tweak from original contract: 502c616d9910774e00edb71f01b951962cc44ec67072757767f3906ff82ebfe8\n",
      "Tweak from modified contract: f24d386cccd01e815007b3a6278151d51a4bbf8835813120cfa0f937cb82f021\n",
      "\n",
      "Alice has produced a valid signature for Q: True\n",
      "The signature appears to commit to 'Alice agrees to pay 0.1 BTC to Bob': True\n"
     ]
    }
   ],
   "source": [
    "# Alice modifies the contract and produces an alternative tweak\n",
    "alternative_contract = \"Alice agrees to pay 0.1 BTC to Bob\"\n",
    "t2 = sha256(alternative_contract.encode('utf-8'))\n",
    "print(\"Tweak from original contract: {}\".format(t.hex()))\n",
    "print(\"Tweak from modified contract: {}\\n\".format(t2.hex()))\n",
    "\n",
    "# Alice modifies her original private key and public key\n",
    "# x2 = x - t2 + t\n",
    "x_int = x_key.as_int()\n",
    "t_int = int.from_bytes(t, \"big\")\n",
    "t2_int = int.from_bytes(t2, \"big\")\n",
    "x2_key, P2_key = generate_key_pair((x_int - t2_int + t_int) % SECP256K1_ORDER)\n",
    "\n",
    "# Alice can still produce a valid signature for Q\n",
    "msg2 = sha256(b'I agree to the committed contract')\n",
    "sig2 = q_key.sign_schnorr(msg2)\n",
    "\n",
    "# Bob can verify that sig is a valid signature for the public key Q:\n",
    "verify_sig = Q_key.verify_schnorr(sig, msg)\n",
    "print(\"Alice has produced a valid signature for Q: {}\".format(verify_sig))\n",
    "\n",
    "# Alice claims that P2 is the untweaked public key.\n",
    "# Bob believes he can verify that the signature committed to the tweak t:\n",
    "verify_tweak = P2_key.tweak_add(sha256(alternative_contract.encode('utf-8'))) == Q_key\n",
    "print(\"The signature appears to commit to '{}': {}\".format(alternative_contract, verify_tweak))"
   ]
  },
  {
   "cell_type": "markdown",
   "metadata": {},
   "source": [
    "#### Summary of 2.2.3, 2.2.4: Insecure practice of tweaking a public key with commitment data\n",
    "\n",
    "We have demonstrated how a simple key tweak with commitment data does not work as a commitment scheme.\n",
    "* Tweaking the original public key `P` with commitment data hides the commitment.\n",
    "* However, the original public key `P` can be recomputed (`P2`) for any modified commitment, without altering the tweaked public key `Q`.\n",
    "\n",
    "To any observer, both original and modified \"commitments\" appear to be valid for the same public key `Q`."
   ]
  },
  {
   "cell_type": "markdown",
   "metadata": {},
   "source": [
    "#### Example 2.2.5 - Pay-to-contract: Tweaking the pubkey with `H(P|msg)`\n",
    "\n",
    "In this example, we demonstrate a _secure_ commitment scheme called pay-to-contract. The private key is tweaked with the scalar `H(P|c)`. Since `P` appears both inside and outside the hash, it isn't possible to solve for a different contract `c` by modifying `x`.\n",
    "\n",
    "* Alice can now no longer invalidate her previous contract commitment with Bob."
   ]
  },
  {
   "cell_type": "code",
   "execution_count": 10,
   "metadata": {},
   "outputs": [
    {
     "name": "stdout",
     "output_type": "stream",
     "text": [
      "Private key: 64284783599168161626754672444570133161965710026473253546783269436008112787394\n",
      "Public key: 6efe00b1ef02e670900e00cfbc0a5481e446db6cc3a7b85082dec3bcb1be65e2\n",
      "\n",
      "Tweaked private key: 26323261577276460354344149632871734650344666922362426135718680514355875178065\n",
      "Tweaked public key: 38d0a52e6fb4782e59ac1e91bcb6c33fc24cf7bb06ca37bfc92308c02cbc239e\n",
      "\n",
      "Alice has produced a valid signature for Q: True\n",
      "The signature commits to 'Alice agrees to pay 10 BTC to Bob': True\n"
     ]
    }
   ],
   "source": [
    "# Alice generates a key pair\n",
    "x_key, P_key = generate_key_pair()\n",
    "print(\"Private key: {}\\nPublic key: {}\\n\".format(x_key.secret, P_key.get_bytes().hex()))\n",
    "\n",
    "# Alice computes the tweak from H(P|msg)\n",
    "contract = \"Alice agrees to pay 10 BTC to Bob\"\n",
    "t = tagged_hash(\"TapTweak\", P_key.get_bytes() + contract.encode('utf-8'))\n",
    "\n",
    "# Alice tweaks her key pair\n",
    "Q_key = P_key.tweak_add(t)\n",
    "q_key = x_key.add(t)\n",
    "print(\"Tweaked private key: {}\\nTweaked public key: {}\\n\".format(q_key.secret, Q_key.get_bytes().hex()))\n",
    "\n",
    "# Alice signs a valid message\n",
    "msg = sha256(b'I agree to the committed contract')\n",
    "sig = q_key.sign_schnorr(msg)\n",
    "\n",
    "# Bob can verify that sig is a valid signature for the public key Q:\n",
    "verify_sig = Q_key.verify_schnorr(sig, msg)\n",
    "print(\"Alice has produced a valid signature for Q: {}\".format(verify_sig))\n",
    "\n",
    "# Alice provides the untweaked public key P to Bob.\n",
    "# Bob believes he can verify that the signature committed to the tweak t:\n",
    "verify_tweak = P_key.tweak_add(t) == Q_key\n",
    "print(\"The signature commits to '{}': {}\".format(contract, verify_tweak))"
   ]
  },
  {
   "cell_type": "markdown",
   "metadata": {},
   "source": [
    "## Part 2: Spending a (tweaked) taproot output along the key path\n",
    "\n",
    "In this exercise, we'll create a segwit v1 output that sends to a tweaked public key. We'll then spend that output along the key path using the tweaked private key.\n",
    "\n",
    "Such as spend does not reveal the committed tweak to the observer and is indistinguishable from any other key path spend."
   ]
  },
  {
   "cell_type": "markdown",
   "metadata": {},
   "source": [
    "#### _Programming Exercise 2.2.6:_ Construct taproot output with tweaked public key"
   ]
  },
  {
   "cell_type": "code",
   "execution_count": 11,
   "metadata": {},
   "outputs": [
    {
     "name": "stdout",
     "output_type": "stream",
     "text": [
      "Success! Address: bcrt1pjnux0f7037ysqv2aycfntus0t606sjyu0qe2xqewlmhulpdujqeq2z4st9\n"
     ]
    }
   ],
   "source": [
    "# Example key pair\n",
    "privkey = ECKey().set(102118636618570133408735518698955378316807974995033705330357303547139065928052)\n",
    "internal_pubkey = privkey.get_pubkey()\n",
    "\n",
    "if internal_pubkey.get_y()%2 != 0:\n",
    "    privkey.negate()\n",
    "    internal_pubkey.negate()\n",
    "\n",
    "# Example tweak\n",
    "taptweak = bytes.fromhex('2a2fb476ec9962f262ff358800db0e7364287340db73e5e48db36d1c9f374e30')\n",
    "\n",
    "# Tweak the private key\n",
    "# Method: ECKey.add()\n",
    "tweaked_privkey = privkey.add(taptweak) # TODO: implement\n",
    "\n",
    "# Tweak the public key\n",
    "# Method: use tweak_add()\n",
    "taproot_pubkey = internal_pubkey.tweak_add(taptweak) # TODO: implement\n",
    "\n",
    "# Derive the bech32 address\n",
    "# Use program_to_witness(version_int, pubkey_bytes)\n",
    "address = program_to_witness(1, taproot_pubkey.get_bytes()) # TODO: implement\n",
    "\n",
    "assert address == \"bcrt1pjnux0f7037ysqv2aycfntus0t606sjyu0qe2xqewlmhulpdujqeq2z4st9\"\n",
    "print(\"Success! Address: {}\".format(address))"
   ]
  },
  {
   "cell_type": "markdown",
   "metadata": {},
   "source": [
    "#### Example 2.2.7: Start Bitcoin Core node and send coins to the taproot address\n",
    "\n",
    "Only run setup once, or after a clean shutdown."
   ]
  },
  {
   "cell_type": "code",
   "execution_count": 12,
   "metadata": {},
   "outputs": [
    {
     "name": "stdout",
     "output_type": "stream",
     "text": [
      "2024-05-26T16:41:47.462000Z TestFramework./tmp/bitcoin_func_test_dlqts4c7 (INFO): Initializing test directory /tmp/bitcoin_func_test_dlqts4c7\n",
      "\n",
      "Client version is /Satoshi:22.1.0(testnode0)/\n",
      "\n",
      "Balance: 50.00000000\n",
      "\n",
      "Transaction f7d62d35b86448721c22a4ae0f612c63843615198937f96f5c4234faf0d0e2a7, output 0\n",
      "sent to bcrt1pjnux0f7037ysqv2aycfntus0t606sjyu0qe2xqewlmhulpdujqeq2z4st9\n",
      "\n"
     ]
    }
   ],
   "source": [
    "# Start node\n",
    "test = util.TestWrapper()\n",
    "test.setup()\n",
    "node = test.nodes[0]\n",
    "\n",
    "# Generate coins and create an output\n",
    "tx = node.generate_and_send_coins(address)\n",
    "print(\"Transaction {}, output 0\\nsent to {}\\n\".format(tx.hash, address))"
   ]
  },
  {
   "cell_type": "markdown",
   "metadata": {},
   "source": [
    "#### Example 2.2.8: Construct `CTransaction` and populate inputs\n",
    "\n",
    "We use the `create_spending_transaction(node, txid)` convenience function."
   ]
  },
  {
   "cell_type": "code",
   "execution_count": 13,
   "metadata": {},
   "outputs": [
    {
     "name": "stdout",
     "output_type": "stream",
     "text": [
      "Spending transaction:\n",
      "CTransaction(nVersion=1 vin=[CTxIn(prevout=COutPoint(hash=f7d62d35b86448721c22a4ae0f612c63843615198937f96f5c4234faf0d0e2a7 n=0) scriptSig= nSequence=0)] vout=[CTxOut(nValue=0.50000000 scriptPubKey=00147492dc10090cdd08a3a8569e2aa8280e8b956579)] wit=CTxWitness() nLockTime=0)\n"
     ]
    }
   ],
   "source": [
    "# Create a spending transaction\n",
    "spending_tx = test.create_spending_transaction(tx.hash)\n",
    "print(\"Spending transaction:\\n{}\".format(spending_tx))"
   ]
  },
  {
   "cell_type": "markdown",
   "metadata": {},
   "source": [
    "#### _Programming Exercise 2.2.9:_ Spend taproot output with key path"
   ]
  },
  {
   "cell_type": "code",
   "execution_count": 17,
   "metadata": {},
   "outputs": [
    {
     "name": "stdout",
     "output_type": "stream",
     "text": [
      "{'txid': 'b90d480a06fc37f08e481862128ac9943d20b2d0bfaeda83680faf86c70aca29', 'wtxid': '304cb7de64f2ac652931177b2a27438abea91bd9deba0a468969f2ffc0685586', 'allowed': False, 'reject-reason': 'non-mandatory-script-verify-flag (Invalid Schnorr signature)'}\n"
     ]
    },
    {
     "ename": "AssertionError",
     "evalue": "",
     "output_type": "error",
     "traceback": [
      "\u001b[0;31m---------------------------------------------------------------------------\u001b[0m",
      "\u001b[0;31mAssertionError\u001b[0m                            Traceback (most recent call last)",
      "Cell \u001b[0;32mIn[17], line 10\u001b[0m\n\u001b[1;32m      7\u001b[0m spending_tx\u001b[38;5;241m.\u001b[39mwit\u001b[38;5;241m.\u001b[39mvtxinwit\u001b[38;5;241m.\u001b[39mappend(CTxInWitness([sig]))\n\u001b[1;32m      9\u001b[0m \u001b[38;5;66;03m# Test mempool acceptance\u001b[39;00m\n\u001b[0;32m---> 10\u001b[0m \u001b[38;5;28;01massert\u001b[39;00m node\u001b[38;5;241m.\u001b[39mtest_transaction(spending_tx)\n\u001b[1;32m     11\u001b[0m \u001b[38;5;28mprint\u001b[39m(\u001b[38;5;124m\"\u001b[39m\u001b[38;5;124mSuccess!\u001b[39m\u001b[38;5;124m\"\u001b[39m)\n",
      "\u001b[0;31mAssertionError\u001b[0m: "
     ]
    }
   ],
   "source": [
    "# Sign transaction with tweaked private key\n",
    "# Method: TaprootSignatureHash(tx, output_list, hash_type=int, input_index=int, scriptpath=bool)\n",
    "sighash = TaprootSignatureHash(spending_tx, [tx.vout[0]], 0x0, 0, False) # TODO: implement\n",
    "sig = tweaked_privkey.sign_schnorr(sighash) # TODO: implement\n",
    "\n",
    "# Add witness to transaction\n",
    "spending_tx.wit.vtxinwit.append(CTxInWitness([sig]))\n",
    "\n",
    "# Test mempool acceptance\n",
    "assert node.test_transaction(spending_tx)\n",
    "print(\"Success!\")"
   ]
  },
  {
   "cell_type": "markdown",
   "metadata": {},
   "source": [
    "#### _Shutdown TestWrapper_"
   ]
  },
  {
   "cell_type": "code",
   "execution_count": 18,
   "metadata": {},
   "outputs": [
    {
     "name": "stdout",
     "output_type": "stream",
     "text": [
      "2024-05-26T16:45:11.113000Z TestFramework./tmp/bitcoin_func_test_dlqts4c7 (INFO): Stopping nodes\n",
      "2024-05-26T16:45:11.216000Z TestFramework./tmp/bitcoin_func_test_dlqts4c7 (INFO): Cleaning up /tmp/bitcoin_func_test_dlqts4c7 on exit\n",
      "2024-05-26T16:45:11.217000Z TestFramework./tmp/bitcoin_func_test_dlqts4c7 (INFO): Tests successful\n"
     ]
    }
   ],
   "source": [
    "# Shutdown\n",
    "test.shutdown()"
   ]
  },
  {
   "cell_type": "markdown",
   "metadata": {},
   "source": [
    "## Part 3 (Case Study): Contract commitments\n",
    "\n",
    "Alice currently commits contracts with Bob to unspendable OP_RETURN outputs, which contain 32B proof-of-existence commitments. Although this is a standard output with a zero amount, several disadvantages remain:\n",
    "\n",
    "* Committing data to an OP_RETURN output requires an additional output with a zero amount, resulting in a higher transaction fees.\n",
    "* The OP_RETURN output reveals the presence of a data commitment to any on-chain observer. This reduces the privacy of Alice's commitments.\n",
    "\n",
    "In this chapter, we'll show how Alice can move her contract commitments to public key tweaks to reduce fees and improve the privacy of her commitments."
   ]
  },
  {
   "cell_type": "markdown",
   "metadata": {},
   "source": [
    "### Committing contract data to an OP_RETURN output\n",
    "\n",
    "We'll first show Alice's current setup: An OP_RETURN script containing commitment data."
   ]
  },
  {
   "cell_type": "markdown",
   "metadata": {},
   "source": [
    "#### Example 2.2.10: Create the contract commitment"
   ]
  },
  {
   "cell_type": "code",
   "execution_count": 19,
   "metadata": {},
   "outputs": [
    {
     "name": "stdout",
     "output_type": "stream",
     "text": [
      "The contract commitment is: 825c4ea08284424f5f4ed191927ba5a784612255199114c3f961fbf4d58b71fa\n"
     ]
    }
   ],
   "source": [
    "contract_bytes = \"Alice pays 10 BTC to Bob\".encode('utf-8')\n",
    "commitment_bytes = sha256(contract_bytes)\n",
    "print(\"The contract commitment is: {}\".format(commitment_bytes.hex()))"
   ]
  },
  {
   "cell_type": "markdown",
   "metadata": {},
   "source": [
    "#### Example 2.2.11: Start Bitcoin Core node and construct an unspent output\n",
    "\n",
    "Only run once, or after a clean shutdown. This constructs an unspent outpoint for example 2.2.12. "
   ]
  },
  {
   "cell_type": "code",
   "execution_count": 20,
   "metadata": {},
   "outputs": [
    {
     "name": "stdout",
     "output_type": "stream",
     "text": [
      "2024-05-26T16:58:45.623000Z TestFramework./tmp/bitcoin_func_test_drt1ll4o (INFO): Initializing test directory /tmp/bitcoin_func_test_drt1ll4o\n",
      "Unspent coin: txid:4197010803774812236627022585787371484290188533326394730213906842565867531117, n:0\n"
     ]
    }
   ],
   "source": [
    "# Start node\n",
    "test = util.TestWrapper()\n",
    "test.setup()\n",
    "node = test.nodes[0]\n",
    "\n",
    "# Generate coins and send these to a new wallet address\n",
    "node.generatetoaddress(101, node.getnewaddress(address_type=\"bech32\"))\n",
    "\n",
    "# Fetch the oldest unspent outpoint in the Bitcoin Core wallet\n",
    "unspent_txid = node.listunspent(1)[-1][\"txid\"]\n",
    "unspent_outpoint = COutPoint(int(unspent_txid,16), 0)\n",
    "\n",
    "print(\"Unspent coin: txid:{}, n:{}\".format(unspent_outpoint.hash, unspent_outpoint.n))"
   ]
  },
  {
   "cell_type": "markdown",
   "metadata": {},
   "source": [
    "#### Example 2.2.12: Create and broadcast a transaction with an OP_RETURN output\n",
    "\n",
    "We now construct a zero-value OP_RETURN output which contains the commitment data of Alice's contract with Bob. We also add a regular P2WPKH output back to Alice to return the funds from the transaction input (less the transaction fee)."
   ]
  },
  {
   "cell_type": "code",
   "execution_count": 21,
   "metadata": {},
   "outputs": [
    {
     "name": "stdout",
     "output_type": "stream",
     "text": [
      "The OP_RETURN output script is: OP_RETURN 825c4ea08284424f5f4ed191927ba5a784612255199114c3f961fbf4d58b71fa\n",
      "The OP_RETURN output value is: 0\n",
      "The total transaction weight is: 609\n",
      "\n",
      "[{'txid': '49694beaa15e9785f4c71e12bd66154e4b07bb65ca19602e3cbfb9ca087e2894', 'wtxid': '2bd6d3f7092d91d4a696a22581d6831b61bc7721d696640a1e9e27d552640667', 'allowed': True, 'vsize': 153, 'fees': {'base': Decimal('0.50000000')}}]\n",
      "Success!\n"
     ]
    }
   ],
   "source": [
    "# Construct transaction spending previously generated outpoint\n",
    "op_return_tx = CTransaction()\n",
    "op_return_tx.nVersion = 1\n",
    "op_return_tx.nLockTime = 0\n",
    "op_return_tx_in = CTxIn(outpoint=unspent_outpoint, nSequence=0)\n",
    "op_return_tx.vin = [op_return_tx_in]\n",
    "\n",
    "# Output 0) Alice's change address\n",
    "address_alice = node.getnewaddress(address_type=\"bech32\")\n",
    "p2wpkh_output_script = bytes.fromhex(node.getaddressinfo(address_alice)['scriptPubKey'])\n",
    "p2wpkh_output_amount_sat = 4_950_000_000  # remove transaction fee from output amount\n",
    "p2wpkh_output = CTxOut(nValue=p2wpkh_output_amount_sat, scriptPubKey=p2wpkh_output_script)\n",
    "\n",
    "# Output 1) OP_RETURN with Alice's commitment\n",
    "op_return_output_script = CScript([OP_RETURN, commitment_bytes])\n",
    "op_return_output = CTxOut(nValue=0, scriptPubKey=op_return_output_script)\n",
    "\n",
    "# Populate transaction with p2pkh and OP_RETURN outputs and add valid witness\n",
    "op_return_tx.vout = [p2wpkh_output, op_return_output]\n",
    "op_return_tx_hex_signed = node.signrawtransactionwithwallet(hexstring=op_return_tx.serialize().hex())['hex']\n",
    "\n",
    "# Confirm details of the OP_RETURN output\n",
    "op_return_tx_decoded = node.decoderawtransaction(op_return_tx_hex_signed)\n",
    "op_return_vout = op_return_tx_decoded['vout'][1]\n",
    "print(\"The OP_RETURN output script is: {}\".format(op_return_vout['scriptPubKey']['asm']))\n",
    "print(\"The OP_RETURN output value is: {}\".format(int(op_return_vout['value'])))\n",
    "\n",
    "# Note the total weight of the transaction with a dedicated OP_RETURN commitment output\n",
    "print(\"The total transaction weight is: {}\\n\".format(op_return_tx_decoded['weight']))\n",
    "\n",
    "# Test mempool acceptance\n",
    "print(node.testmempoolaccept(rawtxs=[op_return_tx_hex_signed], maxfeerate=0))\n",
    "assert node.testmempoolaccept(rawtxs=[op_return_tx_hex_signed], maxfeerate=0)[0]['allowed']\n",
    "print(\"Success!\")"
   ]
  },
  {
   "cell_type": "markdown",
   "metadata": {},
   "source": [
    "### Committing contract data with the pay-to-contract scheme\n",
    "\n",
    "Next, we will commit Alice's contract to a spendable pay-to-pubkey output with the pay-to-contract commitment scheme."
   ]
  },
  {
   "cell_type": "markdown",
   "metadata": {},
   "source": [
    "#### _Programming Exercise 2.2.13:_ Generate segwit v1 address for a pay-to-contract public key\n",
    "\n",
    "Commit the contract to Alice's public key with the pay-to-contract commitment scheme, and then generate the corresponding segwit v1 address."
   ]
  },
  {
   "cell_type": "code",
   "execution_count": 24,
   "metadata": {},
   "outputs": [
    {
     "name": "stdout",
     "output_type": "stream",
     "text": [
      "Address encoding the segwit v1 output:  bcrt1p59y0l8zr4p80yvfsjf0d8m0nkppjcu9ynlvd37e28adjmxf9z0esazpjkm\n"
     ]
    }
   ],
   "source": [
    "# Generate a key pair\n",
    "privkey, pubkey = generate_bip340_key_pair()\n",
    "\n",
    "# Generate the pay-to-contract tweak\n",
    "# Hint: Use tagged_hash(\"TapTweak\", P + bytes)\n",
    "contract_bytes = \"Alice pays 10 BTC to Bob\".encode('utf-8')\n",
    "tweak = int_or_bytes(tagged_hash(\"TapTweak\", pubkey.get_bytes() + contract_bytes)) # TODO: implement\n",
    "tweak_private, tweak_point = generate_key_pair(tweak) # TODO: implement\n",
    "\n",
    "# Tweak Alice's key pair with the pay-to-contract tweak\n",
    "tweaked_pubkey = pubkey + tweak_point # TODO: implement\n",
    "tweaked_privkey = privkey.add(tweak) # TODO: implement\n",
    "\n",
    "# Generate the segwit v1 address\n",
    "version = 1\n",
    "address = program_to_witness(version, tweaked_pubkey.get_bytes())\n",
    "print(\"Address encoding the segwit v1 output: \", address)"
   ]
  },
  {
   "cell_type": "markdown",
   "metadata": {},
   "source": [
    "#### Example 2.2.14: Create a transaction with the Bitcoin Core wallet sending funds to the segwit v1 address\n",
    "\n",
    "The pay-to-contract output encoded in the segwit v1 address holds spendable value just like a regular, untweaked public key. It can be spent with the tweaked private key, as we learned in part 2 of this chapter."
   ]
  },
  {
   "cell_type": "code",
   "execution_count": 25,
   "metadata": {},
   "outputs": [
    {
     "name": "stdout",
     "output_type": "stream",
     "text": [
      "\n",
      "Client version is /Satoshi:22.1.0(testnode0)/\n",
      "\n",
      "Balance: 5100.00000000\n",
      "\n",
      "Transaction 7f9e9170d6b9bc836ac52bab0853d6d4b6bacdd2725ad6673ff0c17a15f4f017, output 0\n",
      "Sent to bcrt1p59y0l8zr4p80yvfsjf0d8m0nkppjcu9ynlvd37e28adjmxf9z0esazpjkm\n",
      "\n",
      "Transaction weight with pay-to-contract: 485\n",
      "Transaction weight with OP_RETURN: 609\n",
      "\n"
     ]
    }
   ],
   "source": [
    "# Generate coins and send to segwit v1 address containing the pay-to-contract public key\n",
    "tx = node.generate_and_send_coins(address)\n",
    "print(\"Transaction {}, output 0\\nSent to {}\\n\".format(tx.hash, address))\n",
    "print(\"Transaction weight with pay-to-contract: {}\".format(node.decoderawtransaction(tx.serialize().hex())['weight']))\n",
    "print(\"Transaction weight with OP_RETURN: {}\\n\".format(op_return_tx_decoded['weight']))"
   ]
  },
  {
   "cell_type": "markdown",
   "metadata": {},
   "source": [
    "#### _Shutdown TestWrapper_"
   ]
  },
  {
   "cell_type": "code",
   "execution_count": 26,
   "metadata": {},
   "outputs": [
    {
     "name": "stdout",
     "output_type": "stream",
     "text": [
      "2024-05-26T17:12:08.473000Z TestFramework./tmp/bitcoin_func_test_drt1ll4o (INFO): Stopping nodes\n",
      "2024-05-26T17:12:08.575000Z TestFramework./tmp/bitcoin_func_test_drt1ll4o (INFO): Cleaning up /tmp/bitcoin_func_test_drt1ll4o on exit\n",
      "2024-05-26T17:12:08.576000Z TestFramework./tmp/bitcoin_func_test_drt1ll4o (INFO): Tests successful\n"
     ]
    }
   ],
   "source": [
    "# Shutdown\n",
    "test.shutdown()"
   ]
  },
  {
   "cell_type": "markdown",
   "metadata": {},
   "source": [
    "**Congratulations!** In this chapter, you have:\n",
    "\n",
    "- Learned how to tweak a public/private key pair with a value.\n",
    "- Created an _insecure_ commitment scheme (by tweaking the keys with the raw commitment value) and a _secure_ commitment scheme (by tweaking with a hash of the commitment and the public key).\n",
    "- Sent coins to a segwit v1 output with a tweaked public key, and later spent that output by signing with the tweaked private key.\n",
    "- Improved cost and privacy of a contract commitment by moving it from an unspendable OP_RETURN output to a pay-to-contract public key."
   ]
  }
 ],
 "metadata": {
  "kernelspec": {
   "display_name": "Python 3",
   "language": "python",
   "name": "python3"
  },
  "language_info": {
   "codemirror_mode": {
    "name": "ipython",
    "version": 3
   },
   "file_extension": ".py",
   "mimetype": "text/x-python",
   "name": "python",
   "nbconvert_exporter": "python",
   "pygments_lexer": "ipython3",
   "version": "3.9.2"
  }
 },
 "nbformat": 4,
 "nbformat_minor": 2
}
